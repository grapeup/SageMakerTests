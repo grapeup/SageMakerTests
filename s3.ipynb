{
 "cells": [
  {
   "cell_type": "code",
   "execution_count": null,
   "id": "72134ee3-d222-4f38-b9c7-1302d390ff6f",
   "metadata": {},
   "outputs": [],
   "source": [
    "!python -m ipykernel install --user --name=conda_python3"
   ]
  },
  {
   "cell_type": "code",
   "execution_count": null,
   "id": "171b339b-2238-45e5-adfb-a28c7cb5d3ec",
   "metadata": {},
   "outputs": [],
   "source": [
    "import boto3\n",
    "import logging\n",
    "from botocore.exceptions import ClientError"
   ]
  },
  {
   "cell_type": "code",
   "execution_count": null,
   "id": "459f762f-a002-4fef-9daf-0c1b6cf98f08",
   "metadata": {},
   "outputs": [],
   "source": [
    "def upload_s3_file(filename, bucket):\n",
    "    s3_client = boto3.client('s3')\n",
    "    try:\n",
    "        s3_client.upload_file(\n",
    "            filename, \n",
    "            bucket, \n",
    "            filename\n",
    "        )\n",
    "    except ClientError as e:\n",
    "        print(f\"Something went wrong - file not uploaded successfully on s3 bucket {bucket}\")\n",
    "        print(e)\n",
    "        return False\n",
    "    \n",
    "    print(f\"File uploaded successfully on s3 bucket {bucket}\")\n",
    "    return True"
   ]
  },
  {
   "cell_type": "code",
   "execution_count": null,
   "id": "6de08ece-e3b3-4848-8c28-d94fdc470d0c",
   "metadata": {},
   "outputs": [],
   "source": [
    "file = open(self.success_file_name, \"w\")\n",
    "file.write(\"S3 upload OK!\")\n",
    "file.close()\n",
    "\n",
    "# self.success_file_name and self.data_bucket_name are injected papermill parameters\n",
    "if upload_s3_file(success_file_name, data_bucket_name):\n",
    "    print(\"File uploaded to S3 succesfully\")\n",
    "else:\n",
    "    print(\"File upload to S3 failed\")"
   ]
  }
 ],
 "metadata": {
  "kernelspec": {
   "display_name": "Python 3",
   "language": "python",
   "name": "python3"
  },
  "language_info": {
   "codemirror_mode": {
    "name": "ipython",
    "version": 3
   },
   "file_extension": ".py",
   "mimetype": "text/x-python",
   "name": "python",
   "nbconvert_exporter": "python",
   "pygments_lexer": "ipython3",
   "version": "3.8.8"
  }
 },
 "nbformat": 4,
 "nbformat_minor": 5
}
