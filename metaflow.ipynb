{
 "cells": [
  {
   "cell_type": "code",
   "execution_count": null,
   "source": [
    "!python -m ipykernel install --user --name=conda_python3\n",
    "!python -m pip install metaflow"
   ],
   "outputs": [],
   "metadata": {}
  },
  {
   "cell_type": "code",
   "execution_count": null,
   "source": [
    "%%writefile metaflow_example.py\n",
    "import os\n",
    "os.environ[\"METAFLOW_PACKAGE_SUFFIXES\"] = \".py,.ipynb,.R,.RDS\"\n",
    "\n",
    "from metaflow import FlowSpec, step, batch, conda_base, conda\n",
    "import random\n",
    "\n",
    "@conda_base(libraries = {\"papermill\" : \"2.3.3\"})\n",
    "class MetaflowExample(FlowSpec):\n",
    "    @step\n",
    "    def start(self):\n",
    "        print(\"starting run with metaflow\")\n",
    "        \n",
    "        # Default papermill parameters\n",
    "        self.n = 10\n",
    "        self.r = 20\n",
    "        self.p = 0\n",
    "        \n",
    "        print(f\"parameters evaluation\\n n: {self.n}\\n r: {self.r}\\n p: {self.p}\")\n",
    "        \n",
    "        self.next(self.execute_notebook_local)\n",
    "\n",
    "    @step\n",
    "    def execute_notebook_local(self):\n",
    "        print(\"executing notebook locally\")\n",
    "\n",
    "        data = [random.randint(1, self.r) for _ in range(self.n)]\n",
    "        print(f\"generated data: {data}\")\n",
    "\n",
    "        self.next(self.execute_notebook_remote)\n",
    "        \n",
    "    @batch\n",
    "    @conda(libraries = {\"jupyter\": \"1.0.0\"})\n",
    "    @step\n",
    "    def execute_notebook_remote(self):\n",
    "        print(\"executing notebook remotely\")\n",
    "\n",
    "        data = [random.randint(1, self.r) for _ in range(self.n)]\n",
    "        print(f\"generated data: {data}\")\n",
    "\n",
    "        self.next(self.end)\n",
    "\n",
    "    @step\n",
    "    def end(self):\n",
    "        print(\"ending run with metaflow\")\n",
    " \n",
    "if __name__ == '__main__':\n",
    "    MetaflowExample()"
   ],
   "outputs": [],
   "metadata": {}
  },
  {
   "cell_type": "code",
   "execution_count": null,
   "source": [
    "!python metaflow_example.py --environment=conda run"
   ],
   "outputs": [],
   "metadata": {}
  }
 ],
 "metadata": {
  "kernelspec": {
   "display_name": "conda_python3",
   "language": "python",
   "name": "conda_python3"
  },
  "language_info": {
   "codemirror_mode": {
    "name": "ipython",
    "version": 3
   },
   "file_extension": ".py",
   "mimetype": "text/x-python",
   "name": "python",
   "nbconvert_exporter": "python",
   "pygments_lexer": "ipython3",
   "version": "3.7.10"
  }
 },
 "nbformat": 4,
 "nbformat_minor": 5
}